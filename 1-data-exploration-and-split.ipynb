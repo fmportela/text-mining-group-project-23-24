{
 "cells": [
  {
   "cell_type": "markdown",
   "metadata": {},
   "source": [
    "### **Text Mining Group Project 23-24**\n",
    "\n",
    "##### **Group 3**\n",
    "\n",
    "**Elements**:\n",
    "- Afonso Gorjão | 20230575 | 20230575@novaims.unl.pt\n",
    "- Diogo Almeida | ... | ...@novaims.unl.pt\n",
    "- Frederico Portela | R20181072 | r20181072@novaims.unl.pt\n",
    "- Pedro Carvalho | 20230554 | 20230554@novaims.unl.pt\n",
    "\n",
    "\n",
    "**In this notebook:**\n",
    "1. Data Extraction from raw file.\n",
    "\n",
    "**Index**\n",
    "1. [Library imports](#library_imports)\n",
    "2. ..."
   ]
  },
  {
   "cell_type": "markdown",
   "metadata": {},
   "source": [
    "#### **Library Imports**<a id='library_imports'></a>"
   ]
  },
  {
   "cell_type": "code",
   "execution_count": 95,
   "metadata": {},
   "outputs": [],
   "source": [
    "import os\n",
    "import re\n",
    "from tqdm import tqdm\n",
    "import warnings\n",
    "warnings.filterwarnings('ignore')\n",
    "\n",
    "import numpy as np\n",
    "import pandas as pd\n",
    "from scipy.stats import chi2_contingency\n",
    "import matplotlib.pyplot as plt\n",
    "\n",
    "import nltk\n",
    "# nltk.download('all')\n",
    "from nltk.corpus import stopwords\n",
    "from nltk.tokenize import word_tokenize\n",
    "from nltk.stem import WordNetLemmatizer\n",
    "from nltk.sentiment.vader import SentimentIntensityAnalyzer\n",
    "\n",
    "from bs4 import BeautifulSoup\n",
    "\n",
    "import fasttext\n",
    "\n",
    "from sklearn.model_selection import train_test_split\n",
    "from sklearn.feature_extraction.text import CountVectorizer\n",
    "\n",
    "from transformers import pipeline"
   ]
  },
  {
   "cell_type": "markdown",
   "metadata": {},
   "source": [
    "#### **Constants**"
   ]
  },
  {
   "cell_type": "code",
   "execution_count": 3,
   "metadata": {},
   "outputs": [],
   "source": [
    "SEED = 42\n",
    "\n",
    "CORPORA_PATH = os.path.join('corpora', 'raw-data')\n",
    "\n",
    "TRAIN_INFO_PATH = os.path.join(CORPORA_PATH, 'train.xlsx')\n",
    "TRAIN_REVIEWS_PATH = os.path.join(CORPORA_PATH, 'train_reviews.xlsx')\n",
    "\n",
    "TEST_INFO_PATH = os.path.join(CORPORA_PATH, 'test.xlsx')\n",
    "TEST_REVIEWS_PATH = os.path.join(CORPORA_PATH, 'test_reviews.xlsx')"
   ]
  },
  {
   "cell_type": "markdown",
   "metadata": {},
   "source": [
    "#### **Data Imports**"
   ]
  },
  {
   "cell_type": "code",
   "execution_count": 4,
   "metadata": {},
   "outputs": [
    {
     "name": "stdout",
     "output_type": "stream",
     "text": [
      "index column to identify each property\n"
     ]
    }
   ],
   "source": [
    "class Metadata:\n",
    "    \n",
    "    \"\"\"\n",
    "    Easy access to metadata for the Airbnb dataset.\n",
    "    \"\"\"\n",
    "    \n",
    "    descriptions = {\n",
    "        'index': 'index column to identify each property',\n",
    "        'description': 'property description',\n",
    "        'host_about': 'host information',\n",
    "        'unlisted': 'target column: whether the property is unlisted (1) or not (0)',\n",
    "        'comments': 'guest comments on the property. A property can have multiple or no comments',\n",
    "    }\n",
    "    \n",
    "    @classmethod\n",
    "    def describe(cls, column):\n",
    "        return cls.descriptions[column]\n",
    "\n",
    "\n",
    "# example\n",
    "print(Metadata.describe('index'))"
   ]
  },
  {
   "cell_type": "code",
   "execution_count": 5,
   "metadata": {},
   "outputs": [
    {
     "name": "stdout",
     "output_type": "stream",
     "text": [
      "Train info shape: (6248, 4)\n"
     ]
    },
    {
     "data": {
      "text/html": [
       "<div>\n",
       "<style scoped>\n",
       "    .dataframe tbody tr th:only-of-type {\n",
       "        vertical-align: middle;\n",
       "    }\n",
       "\n",
       "    .dataframe tbody tr th {\n",
       "        vertical-align: top;\n",
       "    }\n",
       "\n",
       "    .dataframe thead th {\n",
       "        text-align: right;\n",
       "    }\n",
       "</style>\n",
       "<table border=\"1\" class=\"dataframe\">\n",
       "  <thead>\n",
       "    <tr style=\"text-align: right;\">\n",
       "      <th></th>\n",
       "      <th>index</th>\n",
       "      <th>description</th>\n",
       "      <th>host_about</th>\n",
       "      <th>unlisted</th>\n",
       "    </tr>\n",
       "  </thead>\n",
       "  <tbody>\n",
       "    <tr>\n",
       "      <th>0</th>\n",
       "      <td>1</td>\n",
       "      <td>This is a shared mixed room in our hostel, wit...</td>\n",
       "      <td>Alojamento Local Registro: 20835/AL</td>\n",
       "      <td>0</td>\n",
       "    </tr>\n",
       "    <tr>\n",
       "      <th>1</th>\n",
       "      <td>2</td>\n",
       "      <td>O meu espaço fica perto de Parque Eduardo VII,...</td>\n",
       "      <td>I am friendly host, and I will try to always b...</td>\n",
       "      <td>1</td>\n",
       "    </tr>\n",
       "    <tr>\n",
       "      <th>2</th>\n",
       "      <td>3</td>\n",
       "      <td>Trafaria’s House is a cozy and familiar villa ...</td>\n",
       "      <td>I am a social person liking to communicate, re...</td>\n",
       "      <td>1</td>\n",
       "    </tr>\n",
       "    <tr>\n",
       "      <th>3</th>\n",
       "      <td>4</td>\n",
       "      <td>Apartamento Charmoso no Chiado, Entre o Largo ...</td>\n",
       "      <td>Hello!_x000D_\\nI m Portuguese and i love to me...</td>\n",
       "      <td>0</td>\n",
       "    </tr>\n",
       "    <tr>\n",
       "      <th>4</th>\n",
       "      <td>5</td>\n",
       "      <td>Joli appartement  en bordure de mer.&lt;br /&gt; 2 m...</td>\n",
       "      <td>Nous sommes une famille avec deux enfants de 1...</td>\n",
       "      <td>0</td>\n",
       "    </tr>\n",
       "  </tbody>\n",
       "</table>\n",
       "</div>"
      ],
      "text/plain": [
       "   index                                        description  \\\n",
       "0      1  This is a shared mixed room in our hostel, wit...   \n",
       "1      2  O meu espaço fica perto de Parque Eduardo VII,...   \n",
       "2      3  Trafaria’s House is a cozy and familiar villa ...   \n",
       "3      4  Apartamento Charmoso no Chiado, Entre o Largo ...   \n",
       "4      5  Joli appartement  en bordure de mer.<br /> 2 m...   \n",
       "\n",
       "                                          host_about  unlisted  \n",
       "0                Alojamento Local Registro: 20835/AL         0  \n",
       "1  I am friendly host, and I will try to always b...         1  \n",
       "2  I am a social person liking to communicate, re...         1  \n",
       "3  Hello!_x000D_\\nI m Portuguese and i love to me...         0  \n",
       "4  Nous sommes une famille avec deux enfants de 1...         0  "
      ]
     },
     "metadata": {},
     "output_type": "display_data"
    },
    {
     "name": "stdout",
     "output_type": "stream",
     "text": [
      "\n",
      "Train reviews shape: (361281, 2)\n"
     ]
    },
    {
     "data": {
      "text/html": [
       "<div>\n",
       "<style scoped>\n",
       "    .dataframe tbody tr th:only-of-type {\n",
       "        vertical-align: middle;\n",
       "    }\n",
       "\n",
       "    .dataframe tbody tr th {\n",
       "        vertical-align: top;\n",
       "    }\n",
       "\n",
       "    .dataframe thead th {\n",
       "        text-align: right;\n",
       "    }\n",
       "</style>\n",
       "<table border=\"1\" class=\"dataframe\">\n",
       "  <thead>\n",
       "    <tr style=\"text-align: right;\">\n",
       "      <th></th>\n",
       "      <th>index</th>\n",
       "      <th>comments</th>\n",
       "    </tr>\n",
       "  </thead>\n",
       "  <tbody>\n",
       "    <tr>\n",
       "      <th>0</th>\n",
       "      <td>1</td>\n",
       "      <td>this is a very cozy and comfortable house to s...</td>\n",
       "    </tr>\n",
       "    <tr>\n",
       "      <th>1</th>\n",
       "      <td>1</td>\n",
       "      <td>good&lt;br/&gt;</td>\n",
       "    </tr>\n",
       "    <tr>\n",
       "      <th>2</th>\n",
       "      <td>1</td>\n",
       "      <td>My first hostel experience, and all I have to ...</td>\n",
       "    </tr>\n",
       "    <tr>\n",
       "      <th>3</th>\n",
       "      <td>1</td>\n",
       "      <td>Das Hostel war neu und deshalb funktionierte a...</td>\n",
       "    </tr>\n",
       "    <tr>\n",
       "      <th>4</th>\n",
       "      <td>1</td>\n",
       "      <td>It was fine for a dorm, but I think for the pe...</td>\n",
       "    </tr>\n",
       "  </tbody>\n",
       "</table>\n",
       "</div>"
      ],
      "text/plain": [
       "   index                                           comments\n",
       "0      1  this is a very cozy and comfortable house to s...\n",
       "1      1                                          good<br/>\n",
       "2      1  My first hostel experience, and all I have to ...\n",
       "3      1  Das Hostel war neu und deshalb funktionierte a...\n",
       "4      1  It was fine for a dorm, but I think for the pe..."
      ]
     },
     "metadata": {},
     "output_type": "display_data"
    }
   ],
   "source": [
    "train_info = pd.read_excel(TRAIN_INFO_PATH)\n",
    "train_reviews = pd.read_excel(TRAIN_REVIEWS_PATH)\n",
    "\n",
    "print(f'Train info shape: {train_info.shape}')\n",
    "display(train_info.head())\n",
    "print()\n",
    "print(f'Train reviews shape: {train_reviews.shape}')\n",
    "display(train_reviews.head())\n",
    "\n",
    "# time to load: ~25s"
   ]
  },
  {
   "cell_type": "code",
   "execution_count": 6,
   "metadata": {},
   "outputs": [],
   "source": [
    "# we might also want to check the test data to ensure compatibility\n",
    "test_info = pd.read_excel(TEST_INFO_PATH)\n",
    "test_reviews = pd.read_excel(TEST_REVIEWS_PATH)\n",
    "\n",
    "assert test_info.columns.tolist() == train_info.columns.tolist()[:-1], 'Test and train info columns do not match'\n",
    "assert test_reviews.columns.tolist() == train_reviews.columns.tolist(), 'Test and train reviews columns do not match'"
   ]
  },
  {
   "cell_type": "markdown",
   "metadata": {},
   "source": [
    "#### **Data Exploration**"
   ]
  },
  {
   "cell_type": "markdown",
   "metadata": {},
   "source": [
    "- **High-level Statistics**"
   ]
  },
  {
   "cell_type": "code",
   "execution_count": 7,
   "metadata": {},
   "outputs": [
    {
     "name": "stdout",
     "output_type": "stream",
     "text": [
      "Train info missing values:\n",
      "index           0\n",
      "description     0\n",
      "host_about     24\n",
      "unlisted        0\n",
      "dtype: int64\n",
      "\n",
      "Train reviews missing values:\n",
      "index       0\n",
      "comments    2\n",
      "dtype: int64\n",
      "\n",
      "Test info missing values:\n",
      "index          0\n",
      "description    0\n",
      "host_about     2\n",
      "dtype: int64\n",
      "\n",
      "Test reviews missing values:\n",
      "index       0\n",
      "comments    0\n",
      "dtype: int64\n"
     ]
    }
   ],
   "source": [
    "# missing values\n",
    "\n",
    "# there seems to be blank spaces not being identified as nulls\n",
    "# r'^\\s*$' matches strings that are empty or contain only whitespace\n",
    "# ^ asserts the start of the string\n",
    "# \\s* matches zero or more whitespace characters (spaces, tabs, newlines, etc.)\n",
    "# $ asserts the end of the string\n",
    "train_info = train_info.replace(r'^\\s*$', np.nan, regex=True)\n",
    "train_reviews = train_reviews.replace(r'^\\s*$', np.nan, regex=True)\n",
    "\n",
    "print('Train info missing values:')\n",
    "print(train_info.isna().sum())\n",
    "\n",
    "print('\\nTrain reviews missing values:')\n",
    "print(train_reviews.isna().sum())\n",
    "\n",
    "# to the same to the test set\n",
    "test_info = test_info.replace(r'^\\s*$', np.nan, regex=True)\n",
    "test_reviews = test_reviews.replace(r'^\\s*$', np.nan, regex=True)\n",
    "\n",
    "print('\\nTest info missing values:')\n",
    "print(test_info.isna().sum())\n",
    "\n",
    "print('\\nTest reviews missing values:')\n",
    "print(test_reviews.isna().sum())"
   ]
  },
  {
   "cell_type": "code",
   "execution_count": 21,
   "metadata": {},
   "outputs": [
    {
     "name": "stdout",
     "output_type": "stream",
     "text": [
      "Total no. of properties in train dataset: 6248\n"
     ]
    }
   ],
   "source": [
    "# is index unique in train_info?\n",
    "assert train_info['index'].nunique() == train_info.shape[0], 'Index is not unique'\n",
    "print(f'Total no. of properties in train dataset: {train_info.shape[0]}')"
   ]
  },
  {
   "cell_type": "code",
   "execution_count": 10,
   "metadata": {},
   "outputs": [
    {
     "name": "stdout",
     "output_type": "stream",
     "text": [
      "Unlisted: 1708 (27.34%)\n",
      "Listed: 4540 (72.66%)\n"
     ]
    },
    {
     "data": {
      "image/png": "[encoded data removed]",
      "text/plain": [
       "<Figure size 400x300 with 1 Axes>"
      ]
     },
     "metadata": {},
     "output_type": "display_data"
    }
   ],
   "source": [
    "# listed vs unlisted\n",
    "unlisted = train_info['unlisted'].value_counts()\n",
    "print(f'Unlisted: {unlisted[1]} ({unlisted[1] / train_info.shape[0] * 100:.2f}%)')\n",
    "print(f'Listed: {unlisted[0]} ({unlisted[0] / train_info.shape[0] * 100:.2f}%)')\n",
    "\n",
    "plt.figure(figsize=(4,3))\n",
    "plt.bar(['Unlisted', 'Listed'], unlisted)\n",
    "plt.title('Listed vs Unlisted Properties in Train Dataset')\n",
    "plt.show()\n",
    "\n",
    "# ... some data imbalance, might need to address this later"
   ]
  },
  {
   "cell_type": "code",
   "execution_count": 26,
   "metadata": {},
   "outputs": [
    {
     "name": "stdout",
     "output_type": "stream",
     "text": [
      "Properties with reviews: 4245 (67.94%)\n",
      "Properties without reviews: 2003 (32.06%)\n"
     ]
    }
   ],
   "source": [
    "# property reviews\n",
    "reviews_per_property = train_reviews['index'].value_counts()\n",
    "\n",
    "total_properties = train_info.shape[0]\n",
    "properties_with_reviews = reviews_per_property.shape[0]\n",
    "properties_without_reviews = total_properties - properties_with_reviews\n",
    "\n",
    "print(f'Properties with reviews: {properties_with_reviews} ({properties_with_reviews / total_properties * 100:.2f}%)')\n",
    "print(f'Properties without reviews: {properties_without_reviews} ({properties_without_reviews / total_properties * 100:.2f}%)')"
   ]
  },
  {
   "cell_type": "code",
   "execution_count": 33,
   "metadata": {},
   "outputs": [
    {
     "name": "stdout",
     "output_type": "stream",
     "text": [
      "Average reviews per property: 85.11\n",
      "Median reviews per property: 48\n",
      "Mode reviews per property: 1\n",
      "Standard deviation of reviews per property: 96.49\n"
     ]
    }
   ],
   "source": [
    "# stats on reviews per property\n",
    "avg_reviews_per_property = reviews_per_property.mean()\n",
    "print(f'Average reviews per property: {avg_reviews_per_property:.2f}')\n",
    "print(f'Median reviews per property: {reviews_per_property.median():.0f}')\n",
    "print(f'Mode of reviews per property: {reviews_per_property.mode()[0]}')\n",
    "print(f'Standard deviation of reviews per property: {reviews_per_property.std():.2f}')"
   ]
  },
  {
   "cell_type": "markdown",
   "metadata": {},
   "source": [
    "- **Data Cleaning ahead of text field analysis**"
   ]
  },
  {
   "cell_type": "code",
   "execution_count": null,
   "metadata": {},
   "outputs": [],
   "source": [
    "# language detection\n",
    "# wordcounts by field (some cleaning beforehand is needed)\n",
    "# sentiment analysis on comments (chi-square test to check if sentiment is correlated to target)"
   ]
  },
  {
   "cell_type": "code",
   "execution_count": 8,
   "metadata": {},
   "outputs": [],
   "source": [
    "# cleaning functions\n",
    "# NOTE some of this functions will be used for data pre processing!\n",
    "\n",
    "def remove_html_tags(text):\n",
    "    soup = BeautifulSoup(text, \"html.parser\")\n",
    "    cleaned_text = soup.get_text(separator=\" \")\n",
    "    return cleaned_text\n",
    "\n",
    "\n",
    "def remove_emojis_and_special_characters(text):\n",
    "    # Regex to remove emojis and non-ASCII characters\n",
    "    emoji_pattern = re.compile(\"[\"\n",
    "                               u\"\\U0001F600-\\U0001F64F\"  # emoticons\n",
    "                               u\"\\U0001F300-\\U0001F5FF\"  # symbols & pictographs\n",
    "                               u\"\\U0001F680-\\U0001F6FF\"  # transport & map symbols\n",
    "                               u\"\\U0001F700-\\U0001F77F\"  # alchemical symbols\n",
    "                               u\"\\U0001F780-\\U0001F7FF\"  # Geometric shapes extended\n",
    "                               u\"\\U0001F800-\\U0001F8FF\"  # Supplemental arrows-C\n",
    "                               u\"\\U0001F900-\\U0001F9FF\"  # Supplemental symbols and pictographs\n",
    "                               u\"\\U0001FA00-\\U0001FA6F\"  # Chess symbols\n",
    "                               u\"\\U0001FA70-\\U0001FAFF\"  # Symbols and Pictographs Extended-A\n",
    "                               u\"\\U00002702-\\U000027B0\"  # Dingbats\n",
    "                               u\"\\U000024C2-\\U0001F251\"\n",
    "                               \"]+\", flags=re.UNICODE)\n",
    "    text = emoji_pattern.sub(r'', text)\n",
    "    return text\n",
    "\n",
    "\n",
    "def remove_control_characters(text):\n",
    "    # Remove common problematic sequences\n",
    "    text = text.replace('_x000D_', '')  # Explicitly replace carriage returns (often used to indicate line breaks)\n",
    "    # Remove non-printable characters\n",
    "    text = re.sub(r'[\\x00-\\x1f\\x7f-\\x9f]', '', text)\n",
    "    return text\n",
    "\n",
    "\n",
    "def remove_functional_punctuation(text):\n",
    "    # Remove punctuation that is not indicative of sentiment\n",
    "    # Keep ! and ? as they can indicate sentiment\n",
    "    text = re.sub(r'[.,;:()\\[\\]{}]', '', text)\n",
    "    return text\n",
    "\n",
    "\n",
    "def remove_or_replace_mentions(text):\n",
    "    # '@' seems to be either used as a simplification of the word 'at'\n",
    "    # or a mention. Therefore, if '@' is not attached to any other characters\n",
    "    # then we will replace it with 'at', else will remove it as well as the\n",
    "    # characters glued to it.\n",
    "    if '@' in text:\n",
    "        text = re.sub(r' @ ', 'at', text)\n",
    "        text = re.sub(r'@(\\w+)', '', text)\n",
    "    return text\n",
    "\n",
    "\n",
    "def remove_urls(text):\n",
    "    text = re.sub(r'http[s]?://\\S+', '', text)\n",
    "    return text\n",
    "\n",
    "\n",
    "def remove_or_replace_hashtags(text):\n",
    "    # not sure if they are really used as hashtags\n",
    "    # but rather to mean 'number'/'best', e.g. # 1 spot in town!\n",
    "    if '#1' or '# 1':\n",
    "        text = re.sub(r'#\\s?\\b1\\b', 'best', text)\n",
    "    text = re.sub(r'#(\\w+)', '', text)\n",
    "    return text\n",
    "\n",
    "\n",
    "# not used\n",
    "def remove_or_replace_and(text):\n",
    "    if '&' in text:\n",
    "        text = re.sub(r'&', 'and', text)\n",
    "\n",
    "\n",
    "def remove_numbers(text):\n",
    "    text = re.sub(r'\\d+', '', text)\n",
    "    return text\n",
    "\n",
    "\n",
    "def remove_double_withspaces(text):\n",
    "    # the previous transformations might end up\n",
    "    # creating duplicate whitespaces\n",
    "    text = re.sub(r'\\s+', ' ', text)\n",
    "    return text\n",
    "\n",
    "\n",
    "def lower_case(text):\n",
    "    return text.lower()\n",
    "\n",
    "\n",
    "def strip(text):\n",
    "    return text.strip()"
   ]
  },
  {
   "cell_type": "code",
   "execution_count": 9,
   "metadata": {},
   "outputs": [],
   "source": [
    "# function chainer\n",
    "# select which cleaning functions to use\n",
    "\n",
    "def clean_text(text):\n",
    "    # skip nans\n",
    "    if pd.isna(text):\n",
    "        return text\n",
    "        \n",
    "    text = remove_html_tags(text)\n",
    "    text = remove_emojis_and_special_characters(text)\n",
    "    text = remove_control_characters(text)\n",
    "    text = remove_functional_punctuation(text)\n",
    "    text = remove_or_replace_mentions(text)\n",
    "    text = remove_urls(text)\n",
    "    text = remove_or_replace_hashtags(text)\n",
    "    text = remove_numbers(text)\n",
    "    text = remove_double_withspaces(text)\n",
    "    text = lower_case(text)\n",
    "    text = strip(text)\n",
    "    \n",
    "    return text"
   ]
  },
  {
   "cell_type": "code",
   "execution_count": 10,
   "metadata": {},
   "outputs": [],
   "source": [
    "# cleaning\n",
    "\n",
    "train_info['clean_description'] = train_info['description'].apply(clean_text)\n",
    "train_info['clean_host_about'] = train_info['host_about'].apply(clean_text)\n",
    "train_reviews['clean_comments'] = train_reviews['comments'].apply(clean_text)\n",
    "\n",
    "# takes around ~90s"
   ]
  },
  {
   "cell_type": "markdown",
   "metadata": {},
   "source": [
    "- **Language Detection**"
   ]
  },
  {
   "cell_type": "code",
   "execution_count": 11,
   "metadata": {},
   "outputs": [
    {
     "name": "stdout",
     "output_type": "stream",
     "text": [
      "No. of unique languages in clean_description_lang: 10\n",
      "No. of unique languages in clean_host_about_lang: 15\n",
      "No. of unique languages in clean_comments_lang: 67\n"
     ]
    }
   ],
   "source": [
    "# using the fasttext library to help detect language of text fields\n",
    "# it is much faster than other popular libraries like langdetect\n",
    "\n",
    "# how to:\n",
    "# 1. go to: https://fasttext.cc/docs/en/language-identification.html\n",
    "# 2. download lid.176.ftz and place it in the language-detection folder (if you have no such folder, create it beforehand)\n",
    "# example: https://huggingface.co/facebook/fasttext-language-identification\n",
    "\n",
    "class LanguageDetector:\n",
    "    def __init__(self):\n",
    "        self.model = self.load_model()\n",
    "    \n",
    "    def load_model(self):\n",
    "        model = fasttext.load_model(os.path.join('language-detection', 'lid.176.ftz'))\n",
    "        return model\n",
    "    \n",
    "    def detect_language(self, text):\n",
    "        if pd.isna(text):\n",
    "            return text\n",
    "        return self.model.predict(text)[0][0].split('__')[-1]\n",
    "    \n",
    "\n",
    "language_detector = LanguageDetector()\n",
    "train_info['clean_description_lang'] = train_info['clean_description'].apply(lambda text: language_detector.detect_language(text))\n",
    "train_info['clean_host_about_lang'] = train_info['clean_host_about'].apply(lambda text: language_detector.detect_language(text))\n",
    "train_reviews['clean_comments_lang'] = train_reviews['clean_comments'].apply(lambda text: language_detector.detect_language(text))\n",
    "\n",
    "description_languages = train_info['clean_description_lang'].value_counts()\n",
    "host_about_languages = train_info['clean_host_about_lang'].value_counts()\n",
    "comments_languages = train_reviews['clean_comments_lang'].value_counts()\n",
    "\n",
    "print(f\"No. of unique languages in clean_description_lang: {len(description_languages)}\")\n",
    "print(f\"No. of unique languages in clean_host_about_lang: {len(host_about_languages)}\")\n",
    "print(f\"No. of unique languages in clean_comments_lang: {len(comments_languages)}\")"
   ]
  },
  {
   "cell_type": "code",
   "execution_count": 30,
   "metadata": {},
   "outputs": [
    {
     "data": {
      "image/png": "[encoded data removed]",
      "text/plain": [
       "<Figure size 1200x600 with 3 Axes>"
      ]
     },
     "metadata": {},
     "output_type": "display_data"
    }
   ],
   "source": [
    "# plot most common languages\n",
    "\n",
    "fig, (ax1, ax2, ax3) = plt.subplots(3, 1, figsize=(12, 6))\n",
    "\n",
    "ax1.bar(description_languages.index, description_languages)\n",
    "ax1.set_title(\"Unique languages in the 'clean_descriptions' feature\")\n",
    "\n",
    "ax2.bar(host_about_languages.index, host_about_languages)\n",
    "ax2.set_title(\"Unique languages in the 'clean_host_about' feature\")\n",
    "\n",
    "ax3.bar(comments_languages.index, comments_languages)\n",
    "ax3.set_title(\"Unique languages in the 'clean_comments' feature\")\n",
    "\n",
    "plt.tight_layout()\n",
    "plt.show()"
   ]
  },
  {
   "cell_type": "code",
   "execution_count": 52,
   "metadata": {},
   "outputs": [
    {
     "name": "stdout",
     "output_type": "stream",
     "text": [
      "Proportion of observations in english or romance languages:\n",
      "\tdescription: 0.99\n",
      "\thost_about: 0.98\n",
      "\tcomments: 0.94\n"
     ]
    }
   ],
   "source": [
    "# the majority of text data is written in english or one of the romance languages\n",
    "\n",
    "romance_languages = [\n",
    "    'pt', \n",
    "    'fr',\n",
    "    'es',\n",
    "    'it',\n",
    "    'ro'  # fyi, romanian\n",
    "]\n",
    "\n",
    "print('Proportion of observations in english or romance languages:')\n",
    "print(f\"\\tdescriptions: {sum([v for k,v in description_languages.items() if k in ['en'] + romance_languages]) / sum(description_languages):.2f}\")\n",
    "print(f\"\\thost_about: {sum([v for k,v in host_about_languages.items() if k in ['en'] + romance_languages]) / sum(host_about_languages):.2f}\")\n",
    "print(f\"\\tcomments: {sum([v for k,v in comments_languages.items() if k in ['en'] + romance_languages]) / sum(comments_languages):.2f}\")"
   ]
  },
  {
   "cell_type": "code",
   "execution_count": 33,
   "metadata": {},
   "outputs": [
    {
     "name": "stdout",
     "output_type": "stream",
     "text": [
      "Total unique languages: 61\n"
     ]
    }
   ],
   "source": [
    "# all unique languages\n",
    "\n",
    "uq_languages = set(\n",
    "    list(description_languages.index) +\n",
    "    list(host_about_languages.index) +\n",
    "    list(comments_languages.index)\n",
    ")\n",
    "\n",
    "print(f\"Total unique languages: {len(uq_languages)}\")"
   ]
  },
  {
   "cell_type": "code",
   "execution_count": null,
   "metadata": {},
   "outputs": [],
   "source": [
    "# ... and on the test set?"
   ]
  },
  {
   "cell_type": "markdown",
   "metadata": {},
   "source": [
    "- **Word Count**"
   ]
  },
  {
   "cell_type": "code",
   "execution_count": 26,
   "metadata": {},
   "outputs": [],
   "source": [
    "def word_counter(text):\n",
    "    if pd.isna(text):\n",
    "        return 0\n",
    "    return len(text.split(' '))\n",
    "\n",
    "word_count_description = train_info['clean_description'].map(word_counter)\n",
    "word_count_host_about = train_info['clean_host_about'].map(word_counter)\n",
    "word_count_comments = train_reviews['clean_comments'].map(word_counter)"
   ]
  },
  {
   "cell_type": "code",
   "execution_count": 36,
   "metadata": {},
   "outputs": [
    {
     "data": {
      "image/png": "[encoded data removed]",
      "text/plain": [
       "<Figure size 1000x800 with 3 Axes>"
      ]
     },
     "metadata": {},
     "output_type": "display_data"
    }
   ],
   "source": [
    "# plot most common languages\n",
    "\n",
    "fig, (ax1, ax2, ax3) = plt.subplots(3, 1, figsize=(10, 8), sharex=True)\n",
    "\n",
    "ax1.hist(word_count_description, bins=10)\n",
    "ax1.set_title(\"Word count distribution of the 'clean_description' feature\")\n",
    "\n",
    "ax2.hist(word_count_host_about, bins=40)\n",
    "ax2.set_title(\"Word count distribution of the 'clean_host_about' feature\")\n",
    "\n",
    "ax3.hist(word_count_comments, bins=40)\n",
    "ax3.set_title(\"Word count distribution of the 'clean_comments' feature\")\n",
    "\n",
    "plt.tight_layout()\n",
    "plt.show()"
   ]
  },
  {
   "cell_type": "markdown",
   "metadata": {},
   "source": [
    "- **Text Translation to English**"
   ]
  },
  {
   "cell_type": "code",
   "execution_count": 68,
   "metadata": {},
   "outputs": [
    {
     "name": "stdout",
     "output_type": "stream",
     "text": [
      "Proportion of observations in english or languages that we can translate into english:\n",
      "\tdescriptions: 0.9992\n",
      "\thost_about: 0.9979\n",
      "\tcomments: 0.9955\n"
     ]
    }
   ],
   "source": [
    "# what to do to languages that are not possible to translate?\n",
    "\n",
    "pretrained_translators_names = {\n",
    "    'af': None,  # afrikaans\n",
    "    'ar': None,  # arabic\n",
    "    'ast': None, # asturian (no asturian, using romance)\n",
    "    'az': None, # azerbaijani\n",
    "    'bg': None, # bulgarian\n",
    "    'bs': None, # bosnian\n",
    "    'ca': None, # catalan\n",
    "    'ceb': None, # cebuano\n",
    "    'cs': None, # czech\n",
    "    'da': 'Helsinki-NLP/opus-mt-da-en', # danish\n",
    "    'de': 'Helsinki-NLP/opus-mt-en-de', # german\n",
    "    'el': None, # greek\n",
    "    'en': None, # english (no translation needed)\n",
    "    'eo': None, # esperanto\n",
    "    'es': 'Helsinki-NLP/opus-mt-ROMANCE-en', # spanish\n",
    "    'et': None, # estonian\n",
    "    'eu': None, # basque\n",
    "    'fa': None, # persian\n",
    "    'fi': None, # finnish\n",
    "    'fr': 'Helsinki-NLP/opus-mt-ROMANCE-en', # french\n",
    "    'fy': None, # frisian\n",
    "    'ga': None, # irish\n",
    "    'gl': None, # galecian\n",
    "    'he': None, # hebrew\n",
    "    'hr': None, # croatian\n",
    "    'ht': None, # haitian creole\n",
    "    'hu': None, # hungarian\n",
    "    'ia': None, # interlingua\n",
    "    'id': None, # indonesian\n",
    "    'io': None, # ido\n",
    "    'is': None, # icelandic\n",
    "    'it': 'Helsinki-NLP/opus-mt-ROMANCE-en', # italian\n",
    "    'ja': None, # japanese\n",
    "    'jbo': None, # lojban\n",
    "    'km': None, # khmer\n",
    "    'kn': None, # kannada\n",
    "    'la': None, # latin\n",
    "    'lb': None, # luxembourghish\n",
    "    'lt': None, # lithuanian\n",
    "    'lv': None, # latvian\n",
    "    'ms': None, # malay\n",
    "    'nl': 'Helsinki-NLP/opus-mt-nl-en', # dutch\n",
    "    'nn': None, # norwegian (nynorsk)\n",
    "    'no': None, # norwegian\n",
    "    'oc': None, # occitan\n",
    "    'pl': 'Helsinki-NLP/opus-mt-pl-en', # polish\n",
    "    'pt': 'Helsinki-NLP/opus-mt-ROMANCE-en', # portuguese\n",
    "    'ro': 'Helsinki-NLP/opus-mt-ROMANCE-en', # romanian\n",
    "    'ru': 'Helsinki-NLP/opus-mt-ru-en', # russsian\n",
    "    'sco': None, # scots\n",
    "    'sh': None, # serbo-croatian\n",
    "    'sk': None, # slovak\n",
    "    'sl': None, # slovenian\n",
    "    'sr': None, # serbian\n",
    "    'sv': None, # swedish\n",
    "    'sw': None, # swahili\n",
    "    'tr': None, # turkish\n",
    "    'uk': None, # ukranian\n",
    "    'vi': None, # vietnamese\n",
    "    'wa': None, # walloon\n",
    "    'zh': None # chinese\n",
    "}\n",
    "\n",
    "able_to_translate = [k for k,v in pretrained_translators_names.items() if v is not None]\n",
    "print('Proportion of observations in english or languages that we can translate into english:')\n",
    "print(f\"\\tdescriptions: {sum([v for k,v in description_languages.items() if k in ['en'] + able_to_translate]) / sum(description_languages):.4f}\")\n",
    "print(f\"\\thost_about: {sum([v for k,v in host_about_languages.items() if k in ['en'] + able_to_translate]) / sum(host_about_languages):.4f}\")\n",
    "print(f\"\\tcomments: {sum([v for k,v in comments_languages.items() if k in ['en'] + able_to_translate]) / sum(comments_languages):.4f}\")\n",
    "\n",
    "# ... it seems that we are able to translate >99% of all the texts\n",
    "# what if, if we use translation, we can just hard predict 'listed'\n",
    "# (the majority class) for all instances where we can't translate?"
   ]
  },
  {
   "cell_type": "code",
   "execution_count": 111,
   "metadata": {},
   "outputs": [],
   "source": [
    "# possibility: https://huggingface.co/docs/transformers/model_doc/marian\n",
    "# multilingual translator: https://huggingface.co/datasets/Helsinki-NLP/opus-100\n",
    "\n",
    "# TODO checkout this lib: https://github.com/UKPLab/EasyNMT\n",
    "\n",
    "# can we use a sample to perform sentiment analysis?\n",
    "# but what about other the other languages when we want to do predictions?\n",
    "\n",
    "class MultiLingualTranslator:\n",
    "    def __init__(self, pretrained_translators_names):\n",
    "        self.pretrained_translators_names = pretrained_translators_names\n",
    "        self.loaded_pipelines = {}\n",
    "\n",
    "    def load_pipeline(self, model_name):\n",
    "        if model_name not in self.loaded_pipelines:\n",
    "            pipe = pipeline(\"translation\", model=model_name)\n",
    "            self.loaded_pipelines[model_name] = pipe\n",
    "        else:\n",
    "            pipe = self.loaded_pipelines[model_name]\n",
    "            \n",
    "        return pipe\n",
    "\n",
    "    def _get_model_name(self, lang):\n",
    "        return self.pretrained_translators_names.get(lang)\n",
    "\n",
    "    def translate_to_english(self, text, lang) -> str:\n",
    "        if lang == 'en':\n",
    "            return text\n",
    "        elif lang not in [k for k,v in pretrained_translators.items() if v is not None]:\n",
    "            return np.nan\n",
    "\n",
    "        model_name = self._get_model_name(lang)\n",
    "        pipe = self.load_pipeline(model_name)\n",
    "        # output of pipe is a list of dicts, e.g. [{'translation_text': '...'}]\n",
    "        translation = pipe(text)[0][\"translation_text\"]\n",
    "        return translation\n",
    "\n",
    "# it seems that translation affects some cleaning tasks\n",
    "# e.g. adds puncation\n",
    "# capitalizes some letters\n",
    "# ... need to re-clean"
   ]
  },
  {
   "cell_type": "code",
   "execution_count": null,
   "metadata": {},
   "outputs": [],
   "source": [
    "translator = MultiLingualTranslator(pretrained_translators_names)\n",
    "\n",
    "def translate(text, lang, clean=True):\n",
    "    # text might be null\n",
    "    if pd.isna(text):\n",
    "        return text\n",
    "\n",
    "    translation = translator.translate_to_english(text, lang)\n",
    "\n",
    "    # the class returns np.nan for languages without translator model\n",
    "    if pd.isna(translation):\n",
    "        return translation\n",
    "\n",
    "    if clean:\n",
    "        # translation seems able to add punctuation\n",
    "        # and capitalize some letters\n",
    "        translation = remove_functional_punctuation(translation)\n",
    "        translation = lower_case(translation)\n",
    "    \n",
    "    return translation\n",
    "\n",
    "# doing it this way just because of the tqdm\n",
    "def apply_clean_translation_to_df(text_column, lang_column):\n",
    "    new_col = []\n",
    "    for text, lang in tqdm(zip(text_column, lang_column), total=len(text_column), desc=\"Translating text\"):\n",
    "        translation = translate(text, lang)\n",
    "        new_col.append(translation)\n",
    "\n",
    "\n",
    "# ... takes an unfeasible amount of time\n",
    "# train_info['translated_clean_description'] = apply_clean_translation_to_df(train_info['clean_description'], train_info['clean_description_lang'])\n",
    "# train_info['translated_clean_host_about'] = apply_clean_translation_to_df(train_info['clean_host_abou'], train_info['clean_host_abou_lang'])\n",
    "# train_info['translated_clean_comments'] = apply_clean_translation_to_df(train_reviews['clean_comments'], train_reviews['clean_comments_lang'])"
   ]
  },
  {
   "cell_type": "code",
   "execution_count": 51,
   "metadata": {},
   "outputs": [],
   "source": [
    "# TODO maybe use this for translating other languages?\n",
    "# if yes add it to class\n",
    "\n",
    "from deep_translator import GoogleTranslator\n",
    "translated = GoogleTranslator(source='pt', target='en').translate(\"bom dia chamo me frederico\")\n",
    "translated\n",
    "\n",
    "# ... also need to re-clean text\n",
    "# ... also takes a lot of time"
   ]
  },
  {
   "cell_type": "markdown",
   "metadata": {},
   "source": [
    "- **Sentiment Analysis of the 'comments' feature**"
   ]
  },
  {
   "cell_type": "code",
   "execution_count": null,
   "metadata": {},
   "outputs": [],
   "source": [
    "# there are basically 3 types of sentiment analysis:\n",
    "# 1. lexicon-based\n",
    "# 2. machine learning-based\n",
    "# 3. pre-trained transformer-based deep learning\n",
    "\n",
    "# ... maybe we only need the simplest method?\n",
    "\n",
    "# since translation might not be viable we can use the english reviews as a sample\n",
    "# and do sentiment analysis on those?\n",
    "\n",
    "# example of lexicon-based sentiment analysis: https://www.datacamp.com/tutorial/text-analytics-beginners-nltk"
   ]
  },
  {
   "cell_type": "code",
   "execution_count": 106,
   "metadata": {},
   "outputs": [
    {
     "name": "stdout",
     "output_type": "stream",
     "text": [
      "No. of english ocurrences:\n",
      "\t comments: 238351 / 361281\n"
     ]
    }
   ],
   "source": [
    "en_comments = train_reviews.loc[train_reviews['clean_comments_lang'] == 'en', ['index', 'clean_comments']]  # later will merge with the unlisted feature\n",
    "\n",
    "print('No. of english ocurrences:')\n",
    "print(f'\\t comments: {len(en_comments)}/{len(train_reviews)}')\n",
    "\n",
    "# ... shouldn't description and host_about have the exact same numbers?"
   ]
  },
  {
   "cell_type": "code",
   "execution_count": 107,
   "metadata": {},
   "outputs": [],
   "source": [
    "# some pre processing functions, besides simple text cleaning, may help\n",
    "# the accuracy of the sentiment analysis\n",
    "\n",
    "# instantiating outside of function to speed up process\n",
    "en_stop_words = stopwords.words('english')\n",
    "lemmatizer = WordNetLemmatizer()\n",
    "\n",
    "def preprocess_en_text(text):\n",
    "\n",
    "    # tokenizing the text\n",
    "    tokens = word_tokenize(text)\n",
    "\n",
    "    # removing stop words\n",
    "    filtered_tokens = [token for token in tokens if token not in en_stop_words]\n",
    "\n",
    "    # lemmatizing the tokens\n",
    "    lemmatized_tokens = [lemmatizer.lemmatize(token) for token in filtered_tokens]\n",
    "\n",
    "    # joining the tokens back into a string\n",
    "    processed_text = ' '.join(lemmatized_tokens)\n",
    "\n",
    "    return processed_text\n",
    "\n",
    "\n",
    "en_comments['processed_comments'] = en_comments['clean_comments'].apply(preprocess_en_text)\n",
    "\n",
    "# ... takes around 2 min"
   ]
  },
  {
   "cell_type": "code",
   "execution_count": 108,
   "metadata": {},
   "outputs": [
    {
     "name": "stdout",
     "output_type": "stream",
     "text": [
      "processed_comments_sentiment\n",
      "1    221268\n",
      "0     17083\n",
      "Name: count, dtype: int64\n"
     ]
    }
   ],
   "source": [
    "# sentiment analyzer\n",
    "\n",
    "analyzer = SentimentIntensityAnalyzer()\n",
    "\n",
    "def get_sentiment(text):\n",
    "    scores = analyzer.polarity_scores(text)\n",
    "    # compound ranges from -1 to 1\n",
    "    # compound > .5 instead of 0\n",
    "    sentiment = 1 if scores['compound'] > .5 else 0\n",
    "    return sentiment\n",
    "\n",
    "\n",
    "en_comments['processed_comments_sentiment'] = en_comments['processed_comments'].apply(get_sentiment)\n",
    "print(en_comments['processed_comments_sentiment'].value_counts())\n",
    "\n",
    "# ... takes around 2 min"
   ]
  },
  {
   "cell_type": "code",
   "execution_count": 109,
   "metadata": {},
   "outputs": [],
   "source": [
    "# re-structuring the df\n",
    "\n",
    "# there can be multiple comments for a house\n",
    "# se we first should take the mode scores\n",
    "# and then turn it to boolean like the rest\n",
    "# (hence we did not want to convert to bool)\n",
    "\n",
    "def mode(series):\n",
    "    mode = pd.Series.mode(series)\n",
    "    if len(mode) > 1:\n",
    "        mode = 0\n",
    "    return mode\n",
    "\n",
    "en_comments = (\n",
    "    en_comments\n",
    "    .groupby('index')\n",
    "    .agg({'processed_comments_sentiment': lambda x: mode(x)})\n",
    "    .reset_index()\n",
    ")\n",
    "\n",
    "# merging with info df to get the unlisted feature\n",
    "en_comments = en_comments.merge(train_info[['index', 'unlisted']],\n",
    "                                on='index', how='left')"
   ]
  },
  {
   "cell_type": "code",
   "execution_count": 110,
   "metadata": {},
   "outputs": [
    {
     "name": "stdout",
     "output_type": "stream",
     "text": [
      "Chi-square statistic: 9.07502660414605\n",
      "p-value: 0.002591238062242306\n",
      "\n",
      "Conclusion: Reject the null.\n"
     ]
    }
   ],
   "source": [
    "# chi-square test for independence\n",
    "# H0: There is no significant relationship between Variable A and Variable B.\n",
    "# vs.\n",
    "# H1: There is a significant relationship between Variable A and Variable B\n",
    "# therefore, rejecting the null suggests that there is evidence of an\n",
    "# association between the variables.\n",
    "\n",
    "contingency_table = pd.crosstab(en_comments['processed_comments_sentiment'],\n",
    "                                en_comments['unlisted'])\n",
    "\n",
    "chi2, p, dof, expected = chi2_contingency(contingency_table)\n",
    "\n",
    "print(\"Chi-square statistic:\", chi2)\n",
    "print(\"p-value:\", p)\n",
    "# print(\"Degrees of freedom:\", dof)\n",
    "# print(\"Expected frequencies:\")\n",
    "# print(expected)\n",
    "print(f\"\\nConclusion: {'Reject' if p < 0.05 else 'Fail to reject'} the null.\")"
   ]
  },
  {
   "cell_type": "code",
   "execution_count": null,
   "metadata": {},
   "outputs": [],
   "source": [
    "# limitations\n",
    "# ... english observations might not be representative of the whole data\n",
    "# ... data cleaning / processing might cause bias\n",
    "# ... reviews might put out mixed signals, e.g. bad review about property, positive reiew\n",
    "#     about trip, 'apartment was awful but the city was mesmerizing', model might predict\n",
    "#     positive sentiment.\n",
    "# ... lack of accuracy of the sentiment analyser used\n",
    "# ... lack of power of the chi-square test"
   ]
  },
  {
   "cell_type": "markdown",
   "metadata": {},
   "source": [
    "#### **Data Merge (for both train and test datasets)**"
   ]
  },
  {
   "cell_type": "code",
   "execution_count": null,
   "metadata": {},
   "outputs": [],
   "source": [
    "# can we treat each property-guest review as independent?\n",
    "# ... IMO yes, since we reviews are not dated and therefore\n",
    "# we cannot establish a temporal relationship between them\n",
    "# e.g. if last 5 reviews are bad then house is more likely\n",
    "# to be unlisted.\n",
    "\n"
   ]
  },
  {
   "cell_type": "code",
   "execution_count": null,
   "metadata": {},
   "outputs": [],
   "source": [
    "# merging, for train and test datasets, info and reviews"
   ]
  },
  {
   "cell_type": "markdown",
   "metadata": {},
   "source": [
    "#### **Train Data Split**\n",
    "\n",
    "Although during data exploration we have employed several pre-processing and feature engineering techniques the data split will be of the raw data since the techniques employed might be undone later on / new techniques might be employed."
   ]
  },
  {
   "cell_type": "code",
   "execution_count": null,
   "metadata": {},
   "outputs": [],
   "source": [
    "# train-val-test split\n",
    "# due to sheer amount of data k-fold cross-validation will not be feasible\n",
    "\n",
    "\n",
    "# TODO rewrite this code\n",
    "\n",
    "# X = images.copy()\n",
    "# y = [pathlib.Path(path).parts[2] for path in images].copy()\n",
    "\n",
    "# def two_step_proportions(train_p, val_p, test_p):\n",
    "#     \"\"\"\n",
    "#     Since we need to split the data in two steps\n",
    "#     this function returns the proportions of the\n",
    "#     'test_size' arg. needed to get the true prop.\n",
    "#     \"\"\" \n",
    "#     return (test_p, 1-(train_p/(1-test_p)))\n",
    "\n",
    "# test_size_1, test_size_2 = two_step_proportions(.7, .15, .15)\n",
    "\n",
    "# X_train_val, X_test, y_train_val, y_test = train_test_split(X,\n",
    "#                                                             y,\n",
    "#                                                             test_size=test_size_1,\n",
    "#                                                             shuffle=True,\n",
    "#                                                             stratify=y,\n",
    "#                                                             random_state=42)\n",
    "\n",
    "# X_train, X_val, y_train, y_val = train_test_split(X_train_val,\n",
    "#                                                   y_train_val,\n",
    "#                                                   test_size=test_size_2,\n",
    "#                                                   shuffle=True,\n",
    "#                                                   stratify=y_train_val,\n",
    "#                                                   random_state=42)\n",
    "\n",
    "# get_prop = lambda d: round(len(d) / len(X) * 100, 2)\n",
    "# print('Dataset shapes:')\n",
    "# print(f'\\tTrain: {len(X_train)} ({get_prop(X_train)}%)')\n",
    "# print(f'\\tVal: {len(X_val)} ({get_prop(X_val)}%)')\n",
    "# print(f'\\tTest: {len(X_test)} ({get_prop(X_test)}%)')\n",
    "# print(f\"\\nTotal observations: {len(X)}\")"
   ]
  }
 ],
 "metadata": {
  "kernelspec": {
   "display_name": "Python 3 (ipykernel)",
   "language": "python",
   "name": "python3"
  },
  "language_info": {
   "codemirror_mode": {
    "name": "ipython",
    "version": 3
   },
   "file_extension": ".py",
   "mimetype": "text/x-python",
   "name": "python",
   "nbconvert_exporter": "python",
   "pygments_lexer": "ipython3",
   "version": "3.11.7"
  }
 },
 "nbformat": 4,
 "nbformat_minor": 4
}
